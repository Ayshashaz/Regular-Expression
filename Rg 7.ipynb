{
 "cells": [
  {
   "cell_type": "code",
   "execution_count": 1,
   "id": "48c298e1",
   "metadata": {},
   "outputs": [
    {
     "name": "stdout",
     "output_type": "stream",
     "text": [
      "Found words: ['fox', 'dog']\n",
      "Occurrences: {'fox': [16], 'dog': [40], 'horse': None}\n"
     ]
    }
   ],
   "source": [
    "import re\n",
    "\n",
    "def find_words_in_text(text, words):\n",
    "    \"\"\"\n",
    "    Find all occurrences of specified words in the given text.\n",
    "\n",
    "    :param text: The input text where the words will be searched.\n",
    "    :param words: A list of words to search for.\n",
    "    :return: A dictionary with words as keys and lists of their occurrences in the text as values.\n",
    "    \"\"\"\n",
    "    \n",
    "    pattern = r'\\b(?:' + '|'.join(re.escape(word) for word in words) + r')\\b'\n",
    "    \n",
    "    found_words = re.findall(pattern, text)\n",
    "\n",
    "    occurrences = {word: [] for word in words}\n",
    "    \n",
    "    for i, word in enumerate(words):\n",
    "    \n",
    "        matches = [m.start() for m in re.finditer(word, text)]\n",
    "        occurrences[word] = matches if matches else None\n",
    "\n",
    "    return found_words, occurrences\n",
    "\n",
    "text = 'The quick brown fox jumps over the lazy dog.'\n",
    "\n",
    "searched_words = ['fox', 'dog', 'horse']\n",
    "\n",
    "found_words, occurrences = find_words_in_text(text, searched_words)\n",
    "\n",
    "print(f\"Found words: {found_words}\")\n",
    "print(f\"Occurrences: {occurrences}\")\n"
   ]
  },
  {
   "cell_type": "code",
   "execution_count": null,
   "id": "3dbd57d9",
   "metadata": {},
   "outputs": [],
   "source": []
  }
 ],
 "metadata": {
  "kernelspec": {
   "display_name": "Python 3 (ipykernel)",
   "language": "python",
   "name": "python3"
  },
  "language_info": {
   "codemirror_mode": {
    "name": "ipython",
    "version": 3
   },
   "file_extension": ".py",
   "mimetype": "text/x-python",
   "name": "python",
   "nbconvert_exporter": "python",
   "pygments_lexer": "ipython3",
   "version": "3.9.12"
  }
 },
 "nbformat": 4,
 "nbformat_minor": 5
}
