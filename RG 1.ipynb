{
 "cells": [
  {
   "cell_type": "code",
   "execution_count": 1,
   "id": "c5597b90",
   "metadata": {},
   "outputs": [
    {
     "name": "stdout",
     "output_type": "stream",
     "text": [
      "\"Hello123\" is a valid string.\n",
      "\"ValidString\" is a valid string.\n",
      "\"Invalid_String!\" is not a valid string.\n",
      "\"123456\" is a valid string.\n",
      "\"AnotherOne\" is a valid string.\n",
      "\"Mix3d_Cas3s\" is not a valid string.\n"
     ]
    }
   ],
   "source": [
    "import re\n",
    "\n",
    "def is_valid_string(s):\n",
    "    \"\"\"\n",
    "    Check if the string contains only a-z, A-Z, and 0-9.\n",
    "    \n",
    "    :param s: The string to be checked.\n",
    "    :return: True if the string is valid, False otherwise.\n",
    "    \"\"\"\n",
    "    pattern = r'^[a-zA-Z0-9]+$'\n",
    "    return bool(re.match(pattern, s))\n",
    "\n",
    "\n",
    "strings = [\"Hello123\", \"ValidString\", \"Invalid_String!\", \"123456\", \"AnotherOne\", \"Mix3d_Cas3s\"]\n",
    "for s in strings:\n",
    "    if is_valid_string(s):\n",
    "        print(f'\"{s}\" is a valid string.')\n",
    "    else:\n",
    "        print(f'\"{s}\" is not a valid string.')\n"
   ]
  },
  {
   "cell_type": "code",
   "execution_count": null,
   "id": "f1505dfd",
   "metadata": {},
   "outputs": [],
   "source": []
  }
 ],
 "metadata": {
  "kernelspec": {
   "display_name": "Python 3 (ipykernel)",
   "language": "python",
   "name": "python3"
  },
  "language_info": {
   "codemirror_mode": {
    "name": "ipython",
    "version": 3
   },
   "file_extension": ".py",
   "mimetype": "text/x-python",
   "name": "python",
   "nbconvert_exporter": "python",
   "pygments_lexer": "ipython3",
   "version": "3.9.12"
  }
 },
 "nbformat": 4,
 "nbformat_minor": 5
}
