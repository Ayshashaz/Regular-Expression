{
 "cells": [
  {
   "cell_type": "code",
   "execution_count": 1,
   "id": "c6fed63b",
   "metadata": {},
   "outputs": [
    {
     "name": "stdout",
     "output_type": "stream",
     "text": [
      "Original string:\n",
      "Enter at 1 20 Kearny Street. The security desk can direct you to floor 1 6. Please have your identification ready.\n",
      "\n",
      "After concatenating the consecutive numbers:\n",
      "Enter at 120 Kearny Street. The security desk can direct you to floor 16. Please have your identification ready.\n"
     ]
    }
   ],
   "source": [
    "import re\n",
    "\n",
    "def concatenate_consecutive_numbers(text):\n",
    "    \"\"\"\n",
    "    Concatenate consecutive numbers in a given string.\n",
    "\n",
    "    :param text: The input string containing numbers.\n",
    "    :return: A string with consecutive numbers concatenated.\n",
    "    \"\"\"\n",
    "\n",
    "    pattern = r'(\\d+)\\s+(?=\\d)'\n",
    "\n",
    "    \n",
    "    concatenated_text = re.sub(pattern, r'\\1', text)\n",
    "\n",
    "    return concatenated_text\n",
    "\n",
    "original_text = \"Enter at 1 20 Kearny Street. The security desk can direct you to floor 1 6. Please have your identification ready.\"\n",
    "\n",
    "concatenated_text = concatenate_consecutive_numbers(original_text)\n",
    "\n",
    "\n",
    "print(\"Original string:\")\n",
    "print(original_text)\n",
    "print(\"\\nAfter concatenating the consecutive numbers:\")\n",
    "print(concatenated_text)\n"
   ]
  },
  {
   "cell_type": "code",
   "execution_count": null,
   "id": "8993b8d6",
   "metadata": {},
   "outputs": [],
   "source": []
  }
 ],
 "metadata": {
  "kernelspec": {
   "display_name": "Python 3 (ipykernel)",
   "language": "python",
   "name": "python3"
  },
  "language_info": {
   "codemirror_mode": {
    "name": "ipython",
    "version": 3
   },
   "file_extension": ".py",
   "mimetype": "text/x-python",
   "name": "python",
   "nbconvert_exporter": "python",
   "pygments_lexer": "ipython3",
   "version": "3.9.12"
  }
 },
 "nbformat": 4,
 "nbformat_minor": 5
}
