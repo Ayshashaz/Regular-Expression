{
 "cells": [
  {
   "cell_type": "code",
   "execution_count": 1,
   "id": "6be72543",
   "metadata": {},
   "outputs": [
    {
     "name": "stdout",
     "output_type": "stream",
     "text": [
      "https://w3resource.com\n",
      "http://github.com\n"
     ]
    }
   ],
   "source": [
    "import re\n",
    "\n",
    "def find_urls_in_text(text):\n",
    "    \"\"\"\n",
    "    Find all URLs in the given text.\n",
    "\n",
    "    :param text: The input string containing URLs.\n",
    "    :return: A list of URLs found in the text.\n",
    "    \"\"\"\n",
    "    pattern = r'href=\"(https?://[^\"]+)\"'\n",
    "    \n",
    "\n",
    "    urls = re.findall(pattern, text)\n",
    "    return urls\n",
    "\n",
    "\n",
    "text = '<p>Contents :</p><a href=\"https://w3resource.com\">Python Examples</a><a href=\"http://github.com\">Even More Examples</a>'\n",
    "\n",
    "\n",
    "urls = find_urls_in_text(text)\n",
    "\n",
    "\n",
    "for url in urls:\n",
    "    print(url)\n"
   ]
  },
  {
   "cell_type": "code",
   "execution_count": null,
   "id": "9b2bcf90",
   "metadata": {},
   "outputs": [],
   "source": []
  }
 ],
 "metadata": {
  "kernelspec": {
   "display_name": "Python 3 (ipykernel)",
   "language": "python",
   "name": "python3"
  },
  "language_info": {
   "codemirror_mode": {
    "name": "ipython",
    "version": 3
   },
   "file_extension": ".py",
   "mimetype": "text/x-python",
   "name": "python",
   "nbconvert_exporter": "python",
   "pygments_lexer": "ipython3",
   "version": "3.9.12"
  }
 },
 "nbformat": 4,
 "nbformat_minor": 5
}
