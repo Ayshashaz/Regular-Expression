{
 "cells": [
  {
   "cell_type": "code",
   "execution_count": 1,
   "id": "46f62830",
   "metadata": {},
   "outputs": [
    {
     "name": "stdout",
     "output_type": "stream",
     "text": [
      "['1', '12', '13', '345']\n"
     ]
    }
   ],
   "source": [
    "import re\n",
    "\n",
    "def find_numbers_in_string(s):\n",
    "    \"\"\"\n",
    "    Find all numbers of length between 1 and 3 in the given string.\n",
    "\n",
    "    :param s: The input string.\n",
    "    :return: A list of numbers as strings.\n",
    "    \"\"\"\n",
    "    pattern = r'\\b\\d{1,3}\\b'\n",
    "    \n",
    "    numbers = re.findall(pattern, s)\n",
    "    return numbers\n",
    "\n",
    "txt = \"Exercises number 1, 12, 13, and 345 are important\"\n",
    "\n",
    "numbers = find_numbers_in_string(txt)\n",
    "\n",
    "print(numbers)\n"
   ]
  },
  {
   "cell_type": "code",
   "execution_count": null,
   "id": "7c09aef2",
   "metadata": {},
   "outputs": [],
   "source": []
  }
 ],
 "metadata": {
  "kernelspec": {
   "display_name": "Python 3 (ipykernel)",
   "language": "python",
   "name": "python3"
  },
  "language_info": {
   "codemirror_mode": {
    "name": "ipython",
    "version": 3
   },
   "file_extension": ".py",
   "mimetype": "text/x-python",
   "name": "python",
   "nbconvert_exporter": "python",
   "pygments_lexer": "ipython3",
   "version": "3.9.12"
  }
 },
 "nbformat": 4,
 "nbformat_minor": 5
}
