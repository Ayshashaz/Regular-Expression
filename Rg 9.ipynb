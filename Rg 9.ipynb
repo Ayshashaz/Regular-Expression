{
 "cells": [
  {
   "cell_type": "code",
   "execution_count": 1,
   "id": "f780c9d7",
   "metadata": {},
   "outputs": [
    {
     "name": "stdout",
     "output_type": "stream",
     "text": [
      "Extracted Date: 2016/09/02\n",
      "Year: 2016\n",
      "Month: 09\n",
      "Day: 02\n"
     ]
    }
   ],
   "source": [
    "import re\n",
    "\n",
    "def extract_date_from_url(url):\n",
    "    \"\"\"\n",
    "    Extract the year, month, and date from the given URL.\n",
    "\n",
    "    :param url: The input URL containing the date.\n",
    "    :return: A tuple with the full date string and individual year, month, and day.\n",
    "    \"\"\"\n",
    "\n",
    "    pattern = r'/(\\d{4})/(\\d{2})/(\\d{2})/'\n",
    "    \n",
    "  \n",
    "    match = re.search(pattern, url)\n",
    "    \n",
    "    if match:\n",
    "       \n",
    "        year, month, day = match.groups()\n",
    "        full_date = f\"{year}/{month}/{day}\"\n",
    "        return full_date, year, month, day\n",
    "    else:\n",
    "        return None\n",
    "\n",
    "url1 = \"https://www.washingtonpost.com/news/football-insider/wp/2016/09/02/odell-beckhams-fame-rests-on-one-stupid-little-ball-josh-norman-tells-author/\"\n",
    "\n",
    "result = extract_date_from_url(url1)\n",
    "\n",
    "if result:\n",
    "    print(f\"Extracted Date: {result[0]}\")\n",
    "    print(f\"Year: {result[1]}\")\n",
    "    print(f\"Month: {result[2]}\")\n",
    "    print(f\"Day: {result[3]}\")\n",
    "else:\n",
    "    print(\"No date found in the URL.\")\n"
   ]
  },
  {
   "cell_type": "code",
   "execution_count": null,
   "id": "ab5db9ef",
   "metadata": {},
   "outputs": [],
   "source": []
  }
 ],
 "metadata": {
  "kernelspec": {
   "display_name": "Python 3 (ipykernel)",
   "language": "python",
   "name": "python3"
  },
  "language_info": {
   "codemirror_mode": {
    "name": "ipython",
    "version": 3
   },
   "file_extension": ".py",
   "mimetype": "text/x-python",
   "name": "python",
   "nbconvert_exporter": "python",
   "pygments_lexer": "ipython3",
   "version": "3.9.12"
  }
 },
 "nbformat": 4,
 "nbformat_minor": 5
}
