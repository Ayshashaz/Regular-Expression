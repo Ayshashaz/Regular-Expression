{
 "cells": [
  {
   "cell_type": "code",
   "execution_count": 1,
   "id": "648e2c13",
   "metadata": {},
   "outputs": [
    {
     "name": "stdout",
     "output_type": "stream",
     "text": [
      "\"ab\" matches the pattern.\n",
      "\"a123b\" matches the pattern.\n",
      "\"axyzb\" matches the pattern.\n",
      "\"acb\" matches the pattern.\n",
      "\"a very long sentence ending with b\" matches the pattern.\n"
     ]
    }
   ],
   "source": [
    "import re\n",
    "\n",
    "def matches_pattern(s):\n",
    "    \"\"\"\n",
    "    Check if the string starts with 'a' and ends with 'b', with any characters in between.\n",
    "\n",
    "    :param s: The string to be checked.\n",
    "    :return: True if the string matches the pattern, False otherwise.\n",
    "    \"\"\"\n",
    "    pattern = r'^a.*b$'\n",
    "    return bool(re.match(pattern, s))\n",
    "\n",
    "strings = [\n",
    "    \"ab\",\n",
    "    \"a123b\",\n",
    "    \"axyzb\",\n",
    "    \"acb\",\n",
    "    \"a very long sentence ending with b\",\n",
    "    \"ab!\",\n",
    "    \"abc\",\n",
    "    \"bac\",\n",
    "    \"b\"\n",
    "]\n",
    "\n",
    "for s in strings:\n",
    "    if matches_pattern(s):\n",
    "        print(f'\"{s}\" matches the pattern.')\n",
    "    else:\n",
    "        print\n"
   ]
  },
  {
   "cell_type": "code",
   "execution_count": null,
   "id": "25291ab2",
   "metadata": {},
   "outputs": [],
   "source": []
  }
 ],
 "metadata": {
  "kernelspec": {
   "display_name": "Python 3 (ipykernel)",
   "language": "python",
   "name": "python3"
  },
  "language_info": {
   "codemirror_mode": {
    "name": "ipython",
    "version": 3
   },
   "file_extension": ".py",
   "mimetype": "text/x-python",
   "name": "python",
   "nbconvert_exporter": "python",
   "pygments_lexer": "ipython3",
   "version": "3.9.12"
  }
 },
 "nbformat": 4,
 "nbformat_minor": 5
}
