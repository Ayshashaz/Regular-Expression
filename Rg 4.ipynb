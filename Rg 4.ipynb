{
 "cells": [
  {
   "cell_type": "code",
   "execution_count": null,
   "id": "4db9de44",
   "metadata": {},
   "outputs": [],
   "source": [
    "import re\n",
    "\n",
    "def matches_pattern(s):\n",
    "    \"\"\"\n",
    "    Check if the string matches the pattern 'a' followed by exactly three 'b's.\n",
    "\n",
    "    :param s: The string to be checked.\n",
    "    :return: True if the string matches the pattern, False otherwise.\n",
    "    \"\"\"\n",
    "    pattern = r'^ab{3}$'\n",
    "    return bool(re.match(pattern, s))\n",
    "\n",
    "\n",
    "strings = [\"abbb\", \"a\", \"ab\", \"abb\", \"abbbb\", \"abbb \"]\n",
    "\n",
    "for s in strings:\n",
    "    if matches_pattern(s):\n",
    "        print(f'\"{s}\" matches the pattern.')\n",
    "    else:\n",
    "        print(f'\"{s}\" does not match the pattern.')\n"
   ]
  }
 ],
 "metadata": {
  "kernelspec": {
   "display_name": "Python 3 (ipykernel)",
   "language": "python",
   "name": "python3"
  },
  "language_info": {
   "codemirror_mode": {
    "name": "ipython",
    "version": 3
   },
   "file_extension": ".py",
   "mimetype": "text/x-python",
   "name": "python",
   "nbconvert_exporter": "python",
   "pygments_lexer": "ipython3",
   "version": "3.9.12"
  }
 },
 "nbformat": 4,
 "nbformat_minor": 5
}
