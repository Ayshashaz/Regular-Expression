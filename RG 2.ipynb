{
 "cells": [
  {
   "cell_type": "code",
   "execution_count": 1,
   "id": "2a9daff5",
   "metadata": {},
   "outputs": [
    {
     "name": "stdout",
     "output_type": "stream",
     "text": [
      "\"a\" matches the pattern.\n",
      "\"ab\" matches the pattern.\n",
      "\"abb\" matches the pattern.\n",
      "\"abbb\" matches the pattern.\n",
      "\"b\" does not match the pattern.\n",
      "\"abc\" does not match the pattern.\n",
      "\"aabb\" does not match the pattern.\n",
      "\"a \" does not match the pattern.\n",
      "\"ab!\" does not match the pattern.\n"
     ]
    }
   ],
   "source": [
    "import re\n",
    "\n",
    "def matches_pattern(s):\n",
    "    \"\"\"\n",
    "    Check if the string matches the pattern 'a' followed by zero or more 'b's.\n",
    "\n",
    "    :param s: The string to be checked.\n",
    "    :return: True if the string matches the pattern, False otherwise.\n",
    "    \"\"\"\n",
    "    pattern = r'^ab*$'\n",
    "    return bool(re.match(pattern, s))\n",
    "\n",
    "\n",
    "strings = [\"a\", \"ab\", \"abb\", \"abbb\", \"b\", \"abc\", \"aabb\", \"a \", \"ab!\"]\n",
    "\n",
    "for s in strings:\n",
    "    if matches_pattern(s):\n",
    "        print(f'\"{s}\" matches the pattern.')\n",
    "    else:\n",
    "        print(f'\"{s}\" does not match the pattern.')\n"
   ]
  },
  {
   "cell_type": "code",
   "execution_count": null,
   "id": "e680632a",
   "metadata": {},
   "outputs": [],
   "source": []
  }
 ],
 "metadata": {
  "kernelspec": {
   "display_name": "Python 3 (ipykernel)",
   "language": "python",
   "name": "python3"
  },
  "language_info": {
   "codemirror_mode": {
    "name": "ipython",
    "version": 3
   },
   "file_extension": ".py",
   "mimetype": "text/x-python",
   "name": "python",
   "nbconvert_exporter": "python",
   "pygments_lexer": "ipython3",
   "version": "3.9.12"
  }
 },
 "nbformat": 4,
 "nbformat_minor": 5
}
