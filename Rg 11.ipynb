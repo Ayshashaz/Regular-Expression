{
 "cells": [
  {
   "cell_type": "code",
   "execution_count": 1,
   "id": "850b119a",
   "metadata": {},
   "outputs": [
    {
     "name": "stdout",
     "output_type": "stream",
     "text": [
      "example\n",
      "w3resource\n",
      "github\n",
      "stackoverflow\n"
     ]
    }
   ],
   "source": [
    "import re\n",
    "\n",
    "def remove_parenthesis_area(strings):\n",
    "    \"\"\"\n",
    "    Remove the parenthesis area in each string of the list.\n",
    "\n",
    "    :param strings: A list of strings.\n",
    "    :return: A list of strings with parenthesis areas removed.\n",
    "    \"\"\"\n",
    "    \n",
    "    pattern = r'\\s*\\([^)]*\\)'\n",
    "\n",
    "    \n",
    "    cleaned_strings = [re.sub(pattern, '', string) for string in strings]\n",
    "    \n",
    "    return cleaned_strings\n",
    "\n",
    "\n",
    "sample_data = [\"example (.com)\", \"w3resource\", \"github (.com)\", \"stackoverflow (.com)\"]\n",
    "\n",
    "cleaned_data = remove_parenthesis_area(sample_data)\n",
    "\n",
    "for item in cleaned_data:\n",
    "    print(item)\n"
   ]
  },
  {
   "cell_type": "code",
   "execution_count": null,
   "id": "8c61acb5",
   "metadata": {},
   "outputs": [],
   "source": []
  }
 ],
 "metadata": {
  "kernelspec": {
   "display_name": "Python 3 (ipykernel)",
   "language": "python",
   "name": "python3"
  },
  "language_info": {
   "codemirror_mode": {
    "name": "ipython",
    "version": 3
   },
   "file_extension": ".py",
   "mimetype": "text/x-python",
   "name": "python",
   "nbconvert_exporter": "python",
   "pygments_lexer": "ipython3",
   "version": "3.9.12"
  }
 },
 "nbformat": 4,
 "nbformat_minor": 5
}
