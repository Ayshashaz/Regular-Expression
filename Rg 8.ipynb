{
 "cells": [
  {
   "cell_type": "code",
   "execution_count": 1,
   "id": "bacd6f4b",
   "metadata": {},
   "outputs": [
    {
     "name": "stdout",
     "output_type": "stream",
     "text": [
      "Found 'fox' at position 16-19\n"
     ]
    }
   ],
   "source": [
    "import re\n",
    "\n",
    "def find_word_location(text, word):\n",
    "    \"\"\"\n",
    "    Find the occurrences and locations of a specified word in the given text.\n",
    "\n",
    "    :param text: The input text where the word will be searched.\n",
    "    :param word: The word to search for.\n",
    "    :return: A list of tuples with the matched word and its start and end positions in the text.\n",
    "    \"\"\"\n",
    "    \n",
    "    pattern = rf'\\b{re.escape(word)}\\b'\n",
    "    \n",
    "    matches = re.finditer(pattern, text)\n",
    "    \n",
    "    results = [(match.group(), match.start(), match.end()) for match in matches]\n",
    "\n",
    "    return results\n",
    "\n",
    "text = 'The quick brown fox jumps over the lazy dog.'\n",
    "\n",
    "searched_word = 'fox'\n",
    "\n",
    "results = find_word_location(text, searched_word)\n",
    "\n",
    "for result in results:\n",
    "    print(f\"Found '{result[0]}' at position {result[1]}-{result[2]}\")\n"
   ]
  },
  {
   "cell_type": "code",
   "execution_count": null,
   "id": "db6aece8",
   "metadata": {},
   "outputs": [],
   "source": []
  }
 ],
 "metadata": {
  "kernelspec": {
   "display_name": "Python 3 (ipykernel)",
   "language": "python",
   "name": "python3"
  },
  "language_info": {
   "codemirror_mode": {
    "name": "ipython",
    "version": 3
   },
   "file_extension": ".py",
   "mimetype": "text/x-python",
   "name": "python",
   "nbconvert_exporter": "python",
   "pygments_lexer": "ipython3",
   "version": "3.9.12"
  }
 },
 "nbformat": 4,
 "nbformat_minor": 5
}
